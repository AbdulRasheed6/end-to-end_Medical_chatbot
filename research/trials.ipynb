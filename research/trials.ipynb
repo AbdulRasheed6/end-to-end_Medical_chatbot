{
 "cells": [
  {
   "cell_type": "code",
   "execution_count": 1,
   "id": "dd43ef2c",
   "metadata": {},
   "outputs": [
    {
     "name": "stdout",
     "output_type": "stream",
     "text": [
      "ok\n"
     ]
    }
   ],
   "source": [
    "print(\"ok\")"
   ]
  },
  {
   "cell_type": "code",
   "execution_count": 2,
   "id": "66aa525e",
   "metadata": {},
   "outputs": [
    {
     "data": {
      "text/plain": [
       "'c:\\\\Users\\\\MAINGATE\\\\Desktop\\\\end-to-end_Medical_chatbot_generative_ai\\\\end-to-end_Medical_chatbot\\\\research'"
      ]
     },
     "execution_count": 2,
     "metadata": {},
     "output_type": "execute_result"
    }
   ],
   "source": [
    "%pwd"
   ]
  },
  {
   "cell_type": "code",
   "execution_count": 3,
   "id": "b4ad5b8c",
   "metadata": {},
   "outputs": [],
   "source": [
    "import os\n",
    "os.chdir('../')"
   ]
  },
  {
   "cell_type": "code",
   "execution_count": 4,
   "id": "6e0ea72b",
   "metadata": {},
   "outputs": [
    {
     "data": {
      "text/plain": [
       "'c:\\\\Users\\\\MAINGATE\\\\Desktop\\\\end-to-end_Medical_chatbot_generative_ai\\\\end-to-end_Medical_chatbot'"
      ]
     },
     "execution_count": 4,
     "metadata": {},
     "output_type": "execute_result"
    }
   ],
   "source": [
    "%pwd"
   ]
  },
  {
   "cell_type": "code",
   "execution_count": 5,
   "id": "5080d4d3",
   "metadata": {},
   "outputs": [],
   "source": [
    "from dotenv import load_dotenv\n",
    "load_dotenv()\n",
    "\n",
    "PINECONE_API_KEY= os.environ.get('PINECONE_API_KEY2')\n",
    "GEMINI_API_KEY= os.environ.get('GEMINI_API_KEY')\n",
    "\n",
    "index_name='medicbot-v2'"
   ]
  },
  {
   "cell_type": "code",
   "execution_count": 6,
   "id": "d7b275b4",
   "metadata": {},
   "outputs": [
    {
     "name": "stderr",
     "output_type": "stream",
     "text": [
      "c:\\Users\\MAINGATE\\.conda\\envs\\medicbot\\lib\\site-packages\\tqdm\\auto.py:21: TqdmWarning: IProgress not found. Please update jupyter and ipywidgets. See https://ipywidgets.readthedocs.io/en/stable/user_install.html\n",
      "  from .autonotebook import tqdm as notebook_tqdm\n"
     ]
    }
   ],
   "source": [
    "from pinecone.grpc import PineconeGRPC as Pinecone\n",
    "from pinecone import ServerlessSpec\n",
    "import os\n",
    "os.environ[\"PINECONE_API_KEY\"]= PINECONE_API_KEY\n",
    "\n"
   ]
  },
  {
   "cell_type": "code",
   "execution_count": 7,
   "id": "e7c313f9",
   "metadata": {},
   "outputs": [],
   "source": [
    "#  Create or connect to Pinecone index ===\n",
    "def init_pinecone_index(api_key, index_name, dimension=384):\n",
    "    pc = Pinecone(api_key=api_key)\n",
    "\n",
    "    if index_name not in [idx.name for idx in pc.list_indexes().indexes]:\n",
    "        print(f\"Creating index '{index_name}'...\")\n",
    "        pc.create_index(\n",
    "            name=index_name,\n",
    "            dimension=dimension,\n",
    "            metric=\"cosine\",\n",
    "            spec=ServerlessSpec(cloud=\"aws\", region=\"us-east-1\")\n",
    "        )\n",
    "    else:\n",
    "        print(f\"Index '{index_name}' already exists.\")\n",
    "\n",
    "    return index_name\n"
   ]
  },
  {
   "cell_type": "code",
   "execution_count": 8,
   "id": "8cad70da",
   "metadata": {},
   "outputs": [
    {
     "name": "stdout",
     "output_type": "stream",
     "text": [
      "Index 'medicbot-v2' already exists.\n"
     ]
    },
    {
     "data": {
      "text/plain": [
       "'medicbot-v2'"
      ]
     },
     "execution_count": 8,
     "metadata": {},
     "output_type": "execute_result"
    }
   ],
   "source": [
    "init_pinecone_index(PINECONE_API_KEY, index_name)\n"
   ]
  },
  {
   "cell_type": "code",
   "execution_count": 9,
   "id": "0243b320",
   "metadata": {},
   "outputs": [],
   "source": [
    "from langchain.document_loaders import PyPDFLoader, DirectoryLoader\n",
    "\n",
    "def load_pdf_file(data):\n",
    "    loader= DirectoryLoader(data,\n",
    "                           glob=\"*.pdf\",\n",
    "                        loader_cls=PyPDFLoader)\n",
    "    documents=loader.load()\n",
    "\n",
    "    return documents\n"
   ]
  },
  {
   "cell_type": "code",
   "execution_count": null,
   "id": "aa456187",
   "metadata": {},
   "outputs": [],
   "source": []
  },
  {
   "cell_type": "code",
   "execution_count": 11,
   "id": "1dd330bd",
   "metadata": {},
   "outputs": [],
   "source": [
    "\n",
    "\n",
    "extracted_data= load_pdf_file(data='Data/')"
   ]
  },
  {
   "cell_type": "code",
   "execution_count": 10,
   "id": "9d316b90",
   "metadata": {},
   "outputs": [],
   "source": [
    "import pickle\n",
    "# Save\n",
    "#with open('extracted_docs.pkl', 'wb') as f:\n",
    "#    pickle.dump(extracted_data, f)\n",
    "\n",
    "# Load\n",
    "with open('extracted_docs.pkl', 'rb') as f:\n",
    "    extracted_data = pickle.load(f)"
   ]
  },
  {
   "cell_type": "code",
   "execution_count": 11,
   "id": "6626023d",
   "metadata": {},
   "outputs": [],
   "source": [
    "# split the data into chunks\n",
    "from langchain.text_splitter import RecursiveCharacterTextSplitter\n",
    "\n",
    "\n",
    "def text_split(extracted_data):\n",
    "    text_splitter= RecursiveCharacterTextSplitter(chunk_size=500, chunk_overlap=20)\n",
    "    text_chunks= text_splitter.split_documents(extracted_data)\n",
    "    return text_chunks"
   ]
  },
  {
   "cell_type": "code",
   "execution_count": 12,
   "id": "784719ab",
   "metadata": {},
   "outputs": [
    {
     "name": "stdout",
     "output_type": "stream",
     "text": [
      "length of text chunks 40000\n"
     ]
    }
   ],
   "source": [
    "text_chunks= text_split(extracted_data)\n",
    "print('length of text chunks', len(text_chunks))"
   ]
  },
  {
   "cell_type": "code",
   "execution_count": 13,
   "id": "dcf1ef3d",
   "metadata": {},
   "outputs": [],
   "source": [
    "import shutil\n",
    "import os\n",
    "from langchain.embeddings import HuggingFaceEmbeddings\n",
    "\n",
    "def download_hugging_face_embeddings():\n",
    "    cache_dir = './model_cache'\n",
    "\n",
    "    # Clear existing cache (optional, to force re-download)\n",
    "    if os.path.exists(cache_dir):\n",
    "        shutil.rmtree(cache_dir)\n",
    "\n",
    "    embeddings = HuggingFaceEmbeddings(\n",
    "        model_name='sentence-transformers/all-MiniLM-L6-v2',\n",
    "        cache_folder=cache_dir  \n",
    "    )\n",
    "    return embeddings\n"
   ]
  },
  {
   "cell_type": "code",
   "execution_count": 14,
   "id": "173f5a7a",
   "metadata": {},
   "outputs": [],
   "source": [
    "from langchain.embeddings import HuggingFaceEmbeddings\n",
    "\n",
    "def load_cached_hugging_face_embeddings():\n",
    "    cache_dir = './model_cache'\n",
    "\n",
    "    embeddings = HuggingFaceEmbeddings(\n",
    "        model_name='sentence-transformers/all-MiniLM-L6-v2',\n",
    "        cache_folder=cache_dir  # It will now load from here without re-downloading\n",
    "    )\n",
    "    return embeddings\n"
   ]
  },
  {
   "cell_type": "code",
   "execution_count": 15,
   "id": "71899cba",
   "metadata": {},
   "outputs": [
    {
     "name": "stderr",
     "output_type": "stream",
     "text": [
      "C:\\Users\\MAINGATE\\AppData\\Local\\Temp\\ipykernel_6164\\767518856.py:6: LangChainDeprecationWarning: The class `HuggingFaceEmbeddings` was deprecated in LangChain 0.2.2 and will be removed in 1.0. An updated version of the class exists in the :class:`~langchain-huggingface package and should be used instead. To use it run `pip install -U :class:`~langchain-huggingface` and import as `from :class:`~langchain_huggingface import HuggingFaceEmbeddings``.\n",
      "  embeddings = HuggingFaceEmbeddings(\n"
     ]
    }
   ],
   "source": [
    "#embeddings= download_hugging_face_embeddings()\n",
    "embeddings= load_cached_hugging_face_embeddings()"
   ]
  },
  {
   "cell_type": "code",
   "execution_count": 16,
   "id": "e33fa67f",
   "metadata": {},
   "outputs": [
    {
     "name": "stdout",
     "output_type": "stream",
     "text": [
      "Length 384\n"
     ]
    }
   ],
   "source": [
    "query_result= embeddings.embed_query(\"Just do it\")\n",
    "print(\"Length\", len(query_result))"
   ]
  },
  {
   "cell_type": "code",
   "execution_count": 17,
   "id": "2eddd155",
   "metadata": {},
   "outputs": [],
   "source": [
    "os.environ[\"PINECONE_API_KEY\"]= PINECONE_API_KEY"
   ]
  },
  {
   "cell_type": "code",
   "execution_count": null,
   "id": "744cab3c",
   "metadata": {},
   "outputs": [],
   "source": [
    "import json\n",
    "import os\n",
    "from concurrent.futures import ThreadPoolExecutor\n",
    "from threading import Lock\n",
    "from langchain_pinecone import PineconeVectorStore\n",
    "from tqdm import tqdm\n",
    "from langchain.text_splitter import RecursiveCharacterTextSplitter\n",
    "\n",
    "# Global lock to prevent concurrent writes\n",
    "write_lock = Lock()\n",
    "\n",
    "def split_text(documents, chunk_size=500, chunk_overlap=20):\n",
    "    splitter = RecursiveCharacterTextSplitter(chunk_size=chunk_size, chunk_overlap=chunk_overlap)\n",
    "    return splitter.split_documents(documents)\n",
    "\n",
    "\n",
    "def load_uploaded_batch_ids(file_path=\"uploaded_batches.json\"):\n",
    "    if os.path.exists(file_path):\n",
    "        try:\n",
    "            with open(file_path, \"r\") as f:\n",
    "                content = f.read().strip()\n",
    "                if not content:\n",
    "                    return set()\n",
    "                return set(json.loads(content))\n",
    "        except json.JSONDecodeError:\n",
    "            print(\"JSON corrupted, starting fresh.\")\n",
    "            os.remove(file_path)\n",
    "            return set()\n",
    "    return set()\n",
    "\n",
    "\n",
    "def save_uploaded_batch_ids(uploaded_ids, file_path=\"uploaded_batches.json\"):\n",
    "    with write_lock:\n",
    "        with open(file_path, \"w\") as f:\n",
    "            json.dump(list(uploaded_ids), f)\n",
    "\n",
    "\n",
    "def upload_to_pinecone_parallel(text_chunks, embeddings, index_name, batch_size=64, max_workers=8):\n",
    "    docsearch = PineconeVectorStore.from_existing_index(\n",
    "        index_name=index_name,\n",
    "        embedding=embeddings\n",
    "    )\n",
    "\n",
    "    uploaded_batch_ids = load_uploaded_batch_ids()\n",
    "\n",
    "    def upload_batch(batch_id, batch):\n",
    "        if str(batch_id) in uploaded_batch_ids:\n",
    "            return  # Skip already uploaded\n",
    "        try:\n",
    "            docsearch.add_documents(batch)\n",
    "            with write_lock:\n",
    "                uploaded_batch_ids.add(str(batch_id))\n",
    "                save_uploaded_batch_ids(uploaded_batch_ids)\n",
    "        except Exception as e:\n",
    "            print(f\"Failed batch upload {batch_id}: {e}\")\n",
    "\n",
    "    # Create batches\n",
    "    batches = [\n",
    "        (i, text_chunks[i:i + batch_size])\n",
    "        for i in range(0, len(text_chunks), batch_size)\n",
    "    ]\n",
    "\n",
    "    print(f\" Resumable parallel upload with {max_workers} workers...\")\n",
    "\n",
    "    with ThreadPoolExecutor(max_workers=max_workers) as executor:\n",
    "        list(tqdm(\n",
    "            executor.map(lambda args: upload_batch(*args), batches),\n",
    "            total=len(batches),\n",
    "            desc=\"Uploading\"\n",
    "        ))\n",
    "\n",
    "    print(\" Finished uploading all batches.\")\n"
   ]
  },
  {
   "cell_type": "code",
   "execution_count": null,
   "id": "1b4398da",
   "metadata": {},
   "outputs": [
    {
     "name": "stdout",
     "output_type": "stream",
     "text": [
      "🚀 Resumable parallel upload with 8 workers...\n"
     ]
    },
    {
     "name": "stderr",
     "output_type": "stream",
     "text": [
      "Uploading:   0%|          | 0/625 [00:00<?, ?it/s]"
     ]
    }
   ],
   "source": [
    "# STEP 1: Split your documents into chunks\n",
    "chunks = split_text(extracted_data)  # extracted_data is your loaded documents\n",
    "\n",
    "# STEP 2: Embed and upload in parallel\n",
    "upload_to_pinecone_parallel(\n",
    "    text_chunks=chunks,\n",
    "    embeddings=embeddings,\n",
    "    index_name='medicbot-v2',  \n",
    "    batch_size=64,             \n",
    "    max_workers=8              \n",
    ")\n"
   ]
  },
  {
   "cell_type": "code",
   "execution_count": 18,
   "id": "fb3fac5e",
   "metadata": {},
   "outputs": [],
   "source": [
    "from langchain_pinecone import PineconeVectorStore\n",
    "\n",
    "docsearch= PineconeVectorStore.from_existing_index(\n",
    "    index_name=index_name,\n",
    "    embedding=embeddings\n",
    ")\n",
    "\n"
   ]
  },
  {
   "cell_type": "code",
   "execution_count": 19,
   "id": "5843e5fc",
   "metadata": {},
   "outputs": [
    {
     "data": {
      "text/plain": [
       "<langchain_pinecone.vectorstores.PineconeVectorStore at 0x28f87b7d660>"
      ]
     },
     "execution_count": 19,
     "metadata": {},
     "output_type": "execute_result"
    }
   ],
   "source": [
    "docsearch"
   ]
  },
  {
   "cell_type": "code",
   "execution_count": 20,
   "id": "70d9ee08",
   "metadata": {},
   "outputs": [],
   "source": [
    "retriever= docsearch.as_retriever(search_type='similarity', search_kwargs={\"k\":3})"
   ]
  },
  {
   "cell_type": "code",
   "execution_count": 21,
   "id": "283293b4",
   "metadata": {},
   "outputs": [],
   "source": [
    "retreiver_docs= retriever.invoke(\"Hi, I'm feeling unwell. I have a sore throat and fever. what mighy be my probable diagnosis?\")"
   ]
  },
  {
   "cell_type": "code",
   "execution_count": 22,
   "id": "4b902ae5",
   "metadata": {},
   "outputs": [
    {
     "data": {
      "text/plain": [
       "[Document(id='96eb93e1-6522-439e-b3b7-7c9e1f87a570', metadata={'creationdate': '2006-10-16T20:19:33+02:00', 'creator': 'Adobe Acrobat 6.0', 'moddate': '2006-10-16T22:03:45+02:00', 'page': 1491.0, 'page_label': '1462', 'producer': 'PDFlib+PDI 6.0.3 (SunOS)', 'source': 'Data\\\\Medical_book.pdf', 'total_pages': 4505.0}, page_content='ment of life-threatening neurological symptoms.\\n1462 GALE ENCYCLOPEDIA OF MEDICINE\\nFever evaluation tests'),\n",
       " Document(id='d71ae297-6bdc-4547-a9ca-e9a6e8dafdf9', metadata={'creationdate': '2006-10-16T20:19:33+02:00', 'creator': 'Adobe Acrobat 6.0', 'moddate': '2006-10-16T22:03:45+02:00', 'page': 1491.0, 'page_label': '1462', 'producer': 'PDFlib+PDI 6.0.3 (SunOS)', 'source': 'Data\\\\Medical_book.pdf', 'total_pages': 4505.0}, page_content='ment of life-threatening neurological symptoms.\\n1462 GALE ENCYCLOPEDIA OF MEDICINE\\nFever evaluation tests'),\n",
       " Document(id='e15f58af-b0ca-49c9-9602-3506fdd09208', metadata={'creationdate': '2006-10-16T20:19:33+02:00', 'creator': 'Adobe Acrobat 6.0', 'moddate': '2006-10-16T22:03:45+02:00', 'page': 1491.0, 'page_label': '1462', 'producer': 'PDFlib+PDI 6.0.3 (SunOS)', 'source': 'Data\\\\Medical_book.pdf', 'total_pages': 4505.0}, page_content='ment of life-threatening neurological symptoms.\\n1462 GALE ENCYCLOPEDIA OF MEDICINE\\nFever evaluation tests')]"
      ]
     },
     "execution_count": 22,
     "metadata": {},
     "output_type": "execute_result"
    }
   ],
   "source": [
    "retreiver_docs"
   ]
  },
  {
   "cell_type": "code",
   "execution_count": 25,
   "id": "b5d8b9ad",
   "metadata": {},
   "outputs": [
    {
     "name": "stdout",
     "output_type": "stream",
     "text": [
      "Based solely on a sore throat and fever, I cannot provide a diagnosis.  Many illnesses share these symptoms.  A doctor's examination is necessary for proper diagnosis and treatment.\n"
     ]
    }
   ],
   "source": [
    "from langchain_google_genai import ChatGoogleGenerativeAI\n",
    "from langchain_core.prompts import ChatPromptTemplate\n",
    "from langchain.chains import create_retrieval_chain\n",
    "from langchain.chains.combine_documents import create_stuff_documents_chain\n",
    "\n",
    "\n",
    "\n",
    "# 1. Load Gemini LLM\n",
    "llm = ChatGoogleGenerativeAI(\n",
    "    model=\"gemini-1.5-flash\",  # or \"gemini-1.5-pro\"\n",
    "    temperature=0.4,\n",
    "    max_output_tokens=500,\n",
    "    google_api_key= GEMINI_API_KEY\n",
    "\n",
    ")\n",
    "\n",
    "# 2. Prompt Template\n",
    "system_prompt = (\n",
    "    \"You are a medical assistant for question-answering tasks. \"\n",
    "    \"Use the following pieces of retrieved context to answer \"\n",
    "    \"the question. If you don't know the answer, say that you \"\n",
    "    \"don't know. Use three sentences maximum and keep the \"\n",
    "    \"answer concise. \"\n",
    "    \"\\n\\n\"\n",
    "    \"{context}\"\n",
    ")\n",
    "\n",
    "prompt = ChatPromptTemplate.from_messages(\n",
    "    [\n",
    "        (\"system\", system_prompt),\n",
    "        (\"human\", \"{input}\")\n",
    "    ]\n",
    ")\n",
    "\n",
    "# 3. Create chain\n",
    "question_answer_chain = create_stuff_documents_chain(llm, prompt)\n",
    "rag_chain = create_retrieval_chain(retriever, question_answer_chain)\n",
    "\n",
    "# 4. Run a query\n",
    "response = rag_chain.invoke({\"input\": \"Hi, I'm feeling unwell. I have a sore throat and fever. what is my probable diagnosis?\"})\n",
    "print(response[\"answer\"])\n"
   ]
  },
  {
   "cell_type": "code",
   "execution_count": null,
   "id": "b192cff2",
   "metadata": {},
   "outputs": [],
   "source": []
  }
 ],
 "metadata": {
  "kernelspec": {
   "display_name": "Python 3",
   "language": "python",
   "name": "python3"
  },
  "language_info": {
   "codemirror_mode": {
    "name": "ipython",
    "version": 3
   },
   "file_extension": ".py",
   "mimetype": "text/x-python",
   "name": "python",
   "nbconvert_exporter": "python",
   "pygments_lexer": "ipython3",
   "version": "3.10.16"
  }
 },
 "nbformat": 4,
 "nbformat_minor": 5
}
